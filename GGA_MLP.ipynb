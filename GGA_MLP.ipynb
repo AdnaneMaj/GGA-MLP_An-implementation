{
 "cells": [
  {
   "cell_type": "code",
   "execution_count": 1,
   "id": "042f64ac",
   "metadata": {},
   "outputs": [],
   "source": [
    "import numpy as np\n",
    "import random\n",
    "\n",
    "import tensorflow as tf\n",
    "from tensorflow.keras.datasets import mnist"
   ]
  },
  {
   "cell_type": "code",
   "execution_count": 2,
   "id": "1110b36f",
   "metadata": {},
   "outputs": [],
   "source": [
    "class GenNN:\n",
    "    def __init__(self,sizes):\n",
    "        self.num_layers = len(sizes)\n",
    "        self.sizes = sizes\n",
    "        self.biases = [np.random.uniform(size=(y,1)) for y in sizes[1:]] #for a network with n layer, we have n-1 bias vector\n",
    "        self.weights = [np.random.uniform(size=(y,x)) for x,y in zip(sizes[:-1],sizes[1:])]\n",
    "        self.chromosom = np.concatenate([w.flatten() for w in self.weights]+[b.flatten() for b in self.biases])\n",
    "        self.N_gens = len(self.chromosom)\n",
    "        \n",
    "    @staticmethod\n",
    "    def sigmoid(z):\n",
    "        return 1.0/(1.0+np.exp(-z))\n",
    "    \n",
    "    def unflatten_weights(self):\n",
    "        weights = []\n",
    "        biases = []\n",
    "        idx = 0\n",
    "        sizes = self.sizes\n",
    "        for i in range(len(sizes) - 1):\n",
    "            weight_size = sizes[i]*sizes[i + 1]\n",
    "            weights.append(self.chromosom[idx:idx + weight_size].reshape((sizes[i+1], sizes[i])))\n",
    "            idx += weight_size\n",
    "            \n",
    "            # Extracting biases for each layer\n",
    "            biases_shape = (sizes[i + 1], 1)\n",
    "            biases.append(self.chromosom[idx:idx + sizes[i + 1]].reshape(biases_shape))\n",
    "            idx += sizes[i + 1]\n",
    "            \n",
    "        self.weights=weights\n",
    "        self.biases = biases\n",
    "\n",
    "            \n",
    "    def feedforward(self,a):\n",
    "        \"\"\"\n",
    "        Return the output of the network with input \"a\"\n",
    "        \"\"\"\n",
    "        for b,w in zip(self.biases,self.weights):\n",
    "            a=GenNN.sigmoid(np.dot(w,a)+b.flatten())\n",
    "            \n",
    "        return a      "
   ]
  },
  {
   "cell_type": "markdown",
   "id": "09b69b2d",
   "metadata": {},
   "source": [
    "# MNIST Data"
   ]
  },
  {
   "cell_type": "code",
   "execution_count": 3,
   "id": "65f44c1b",
   "metadata": {},
   "outputs": [],
   "source": [
    "# Load MNIST dataset\n",
    "(x_train, y_train), (x_test, y_test) = mnist.load_data()\n",
    "\n",
    "# Optionally, you can normalize the pixel values to be in the range [0, 1]\n",
    "x_train, x_test = x_train / 255.0, x_test / 255.0\n",
    "\n",
    "training_data = [(x_train[i].flatten(),y_train[i]) for i in range(60000)]\n",
    "test_data = [(x_test[i].flatten(),y_test[i]) for i in range(10000)]"
   ]
  },
  {
   "cell_type": "code",
   "execution_count": 4,
   "id": "ea81e22d",
   "metadata": {},
   "outputs": [
    {
     "data": {
      "text/plain": [
       "0.0"
      ]
     },
     "execution_count": 4,
     "metadata": {},
     "output_type": "execute_result"
    }
   ],
   "source": [
    "training_data[1][0][1]"
   ]
  },
  {
   "cell_type": "markdown",
   "id": "4b9f84ca",
   "metadata": {},
   "source": [
    "# 1. Generate Population"
   ]
  },
  {
   "cell_type": "code",
   "execution_count": 5,
   "id": "992c7d6f",
   "metadata": {},
   "outputs": [],
   "source": [
    "architecture = [784,20,10]\n",
    "\n",
    "def fitness(ind,data=training_data):\n",
    "    return sum([(np.argmax(ind.feedforward(x))-y)**2 for x,y in training_data])/len(data)"
   ]
  },
  {
   "cell_type": "code",
   "execution_count": 42,
   "id": "3b0b8b79",
   "metadata": {},
   "outputs": [],
   "source": [
    "initial_pop = [GenNN(architecture) for i in range(20)]"
   ]
  },
  {
   "cell_type": "code",
   "execution_count": 14,
   "id": "8fae169f",
   "metadata": {},
   "outputs": [
    {
     "name": "stdout",
     "output_type": "stream",
     "text": [
      "012345678910111213141516171819202122232425262728293031323334353637383940414243444546474849"
     ]
    }
   ],
   "source": [
    "pop_fitness = []\n",
    "for i,individual in enumerate(initial_pop):\n",
    "    print(i,end='')\n",
    "    pop_fitness.append(fitness(individual))"
   ]
  },
  {
   "cell_type": "markdown",
   "id": "4cc5efa8",
   "metadata": {},
   "source": [
    "# 2. Selection"
   ]
  },
  {
   "cell_type": "code",
   "execution_count": 46,
   "id": "4121a20c",
   "metadata": {},
   "outputs": [],
   "source": [
    "#deterministic selection\n",
    "def select(individuals,pn = 0.3):\n",
    "    \"\"\"\n",
    "    pn : % or integer\n",
    "    \"\"\"\n",
    "    n = int(len(individuals)*pn) if pn<1 else pn\n",
    "        \n",
    "    pop_fitness = [fitness(individual) for individual in individuals]\n",
    "    top_n = sorted(range(len(pop_fitness)), key=lambda i: pop_fitness[i], reverse=True)[:n]\n",
    "    worst_n = sorted(range(len(pop_fitness)), key=lambda i: pop_fitness[i], reverse=True)[-n:]\n",
    "    return top_n,worst_n"
   ]
  },
  {
   "cell_type": "code",
   "execution_count": 40,
   "id": "a4553baf",
   "metadata": {
    "collapsed": true
   },
   "outputs": [
    {
     "ename": "KeyboardInterrupt",
     "evalue": "",
     "output_type": "error",
     "traceback": [
      "\u001b[1;31m---------------------------------------------------------------------------\u001b[0m",
      "\u001b[1;31mKeyboardInterrupt\u001b[0m                         Traceback (most recent call last)",
      "Cell \u001b[1;32mIn [40], line 1\u001b[0m\n\u001b[1;32m----> 1\u001b[0m top_n,worst_n \u001b[38;5;241m=\u001b[39m \u001b[43mselect\u001b[49m\u001b[43m(\u001b[49m\u001b[43minitial_pop\u001b[49m\u001b[43m)\u001b[49m\n",
      "Cell \u001b[1;32mIn [38], line 9\u001b[0m, in \u001b[0;36mselect\u001b[1;34m(individuals, pn)\u001b[0m\n\u001b[0;32m      6\u001b[0m \u001b[38;5;28;01mif\u001b[39;00m pn\u001b[38;5;241m<\u001b[39m\u001b[38;5;241m1\u001b[39m :\n\u001b[0;32m      7\u001b[0m     n \u001b[38;5;241m=\u001b[39m \u001b[38;5;28mint\u001b[39m(\u001b[38;5;28mlen\u001b[39m(individuals)\u001b[38;5;241m*\u001b[39mpn)\n\u001b[1;32m----> 9\u001b[0m pop_fitness \u001b[38;5;241m=\u001b[39m [fitness(individual) \u001b[38;5;28;01mfor\u001b[39;00m individual \u001b[38;5;129;01min\u001b[39;00m individuals]\n\u001b[0;32m     10\u001b[0m top_n \u001b[38;5;241m=\u001b[39m \u001b[38;5;28msorted\u001b[39m(\u001b[38;5;28mrange\u001b[39m(\u001b[38;5;28mlen\u001b[39m(pop_fitness)), key\u001b[38;5;241m=\u001b[39m\u001b[38;5;28;01mlambda\u001b[39;00m i: pop_fitness[i], reverse\u001b[38;5;241m=\u001b[39m\u001b[38;5;28;01mTrue\u001b[39;00m)[:n]\n\u001b[0;32m     11\u001b[0m worst_n \u001b[38;5;241m=\u001b[39m \u001b[38;5;28msorted\u001b[39m(\u001b[38;5;28mrange\u001b[39m(\u001b[38;5;28mlen\u001b[39m(pop_fitness)), key\u001b[38;5;241m=\u001b[39m\u001b[38;5;28;01mlambda\u001b[39;00m i: pop_fitness[i], reverse\u001b[38;5;241m=\u001b[39m\u001b[38;5;28;01mTrue\u001b[39;00m)[\u001b[38;5;241m-\u001b[39mn:]\n",
      "Cell \u001b[1;32mIn [38], line 9\u001b[0m, in \u001b[0;36m<listcomp>\u001b[1;34m(.0)\u001b[0m\n\u001b[0;32m      6\u001b[0m \u001b[38;5;28;01mif\u001b[39;00m pn\u001b[38;5;241m<\u001b[39m\u001b[38;5;241m1\u001b[39m :\n\u001b[0;32m      7\u001b[0m     n \u001b[38;5;241m=\u001b[39m \u001b[38;5;28mint\u001b[39m(\u001b[38;5;28mlen\u001b[39m(individuals)\u001b[38;5;241m*\u001b[39mpn)\n\u001b[1;32m----> 9\u001b[0m pop_fitness \u001b[38;5;241m=\u001b[39m [\u001b[43mfitness\u001b[49m\u001b[43m(\u001b[49m\u001b[43mindividual\u001b[49m\u001b[43m)\u001b[49m \u001b[38;5;28;01mfor\u001b[39;00m individual \u001b[38;5;129;01min\u001b[39;00m individuals]\n\u001b[0;32m     10\u001b[0m top_n \u001b[38;5;241m=\u001b[39m \u001b[38;5;28msorted\u001b[39m(\u001b[38;5;28mrange\u001b[39m(\u001b[38;5;28mlen\u001b[39m(pop_fitness)), key\u001b[38;5;241m=\u001b[39m\u001b[38;5;28;01mlambda\u001b[39;00m i: pop_fitness[i], reverse\u001b[38;5;241m=\u001b[39m\u001b[38;5;28;01mTrue\u001b[39;00m)[:n]\n\u001b[0;32m     11\u001b[0m worst_n \u001b[38;5;241m=\u001b[39m \u001b[38;5;28msorted\u001b[39m(\u001b[38;5;28mrange\u001b[39m(\u001b[38;5;28mlen\u001b[39m(pop_fitness)), key\u001b[38;5;241m=\u001b[39m\u001b[38;5;28;01mlambda\u001b[39;00m i: pop_fitness[i], reverse\u001b[38;5;241m=\u001b[39m\u001b[38;5;28;01mTrue\u001b[39;00m)[\u001b[38;5;241m-\u001b[39mn:]\n",
      "Cell \u001b[1;32mIn [5], line 4\u001b[0m, in \u001b[0;36mfitness\u001b[1;34m(ind, data)\u001b[0m\n\u001b[0;32m      3\u001b[0m \u001b[38;5;28;01mdef\u001b[39;00m \u001b[38;5;21mfitness\u001b[39m(ind,data\u001b[38;5;241m=\u001b[39mtraining_data):\n\u001b[1;32m----> 4\u001b[0m     \u001b[38;5;28;01mreturn\u001b[39;00m \u001b[38;5;28msum\u001b[39m([(np\u001b[38;5;241m.\u001b[39margmax(ind\u001b[38;5;241m.\u001b[39mfeedforward(x))\u001b[38;5;241m-\u001b[39my)\u001b[38;5;241m*\u001b[39m\u001b[38;5;241m*\u001b[39m\u001b[38;5;241m2\u001b[39m \u001b[38;5;28;01mfor\u001b[39;00m x,y \u001b[38;5;129;01min\u001b[39;00m training_data])\u001b[38;5;241m/\u001b[39m\u001b[38;5;28mlen\u001b[39m(data)\n",
      "Cell \u001b[1;32mIn [5], line 4\u001b[0m, in \u001b[0;36m<listcomp>\u001b[1;34m(.0)\u001b[0m\n\u001b[0;32m      3\u001b[0m \u001b[38;5;28;01mdef\u001b[39;00m \u001b[38;5;21mfitness\u001b[39m(ind,data\u001b[38;5;241m=\u001b[39mtraining_data):\n\u001b[1;32m----> 4\u001b[0m     \u001b[38;5;28;01mreturn\u001b[39;00m \u001b[38;5;28msum\u001b[39m([(np\u001b[38;5;241m.\u001b[39margmax(\u001b[43mind\u001b[49m\u001b[38;5;241;43m.\u001b[39;49m\u001b[43mfeedforward\u001b[49m\u001b[43m(\u001b[49m\u001b[43mx\u001b[49m\u001b[43m)\u001b[49m)\u001b[38;5;241m-\u001b[39my)\u001b[38;5;241m*\u001b[39m\u001b[38;5;241m*\u001b[39m\u001b[38;5;241m2\u001b[39m \u001b[38;5;28;01mfor\u001b[39;00m x,y \u001b[38;5;129;01min\u001b[39;00m training_data])\u001b[38;5;241m/\u001b[39m\u001b[38;5;28mlen\u001b[39m(data)\n",
      "Cell \u001b[1;32mIn [2], line 38\u001b[0m, in \u001b[0;36mGenNN.feedforward\u001b[1;34m(self, a)\u001b[0m\n\u001b[0;32m     34\u001b[0m \u001b[38;5;124;03m\"\"\"\u001b[39;00m\n\u001b[0;32m     35\u001b[0m \u001b[38;5;124;03mReturn the output of the network with input \"a\"\u001b[39;00m\n\u001b[0;32m     36\u001b[0m \u001b[38;5;124;03m\"\"\"\u001b[39;00m\n\u001b[0;32m     37\u001b[0m \u001b[38;5;28;01mfor\u001b[39;00m b,w \u001b[38;5;129;01min\u001b[39;00m \u001b[38;5;28mzip\u001b[39m(\u001b[38;5;28mself\u001b[39m\u001b[38;5;241m.\u001b[39mbiases,\u001b[38;5;28mself\u001b[39m\u001b[38;5;241m.\u001b[39mweights):\n\u001b[1;32m---> 38\u001b[0m     a\u001b[38;5;241m=\u001b[39mGenNN\u001b[38;5;241m.\u001b[39msigmoid(\u001b[43mnp\u001b[49m\u001b[38;5;241;43m.\u001b[39;49m\u001b[43mdot\u001b[49m\u001b[43m(\u001b[49m\u001b[43mw\u001b[49m\u001b[43m,\u001b[49m\u001b[43ma\u001b[49m\u001b[43m)\u001b[49m\u001b[38;5;241m+\u001b[39mb\u001b[38;5;241m.\u001b[39mflatten())\n\u001b[0;32m     40\u001b[0m \u001b[38;5;28;01mreturn\u001b[39;00m a\n",
      "\u001b[1;31mKeyboardInterrupt\u001b[0m: "
     ]
    }
   ],
   "source": [
    "top_n,worst_n = select(initial_pop)"
   ]
  },
  {
   "cell_type": "markdown",
   "id": "97d116c7",
   "metadata": {},
   "source": [
    "# 3. Cross Over"
   ]
  },
  {
   "cell_type": "markdown",
   "id": "ff976ff7",
   "metadata": {},
   "source": [
    "Here we will be implementing Mean-based-Crossover, a technique presented in the following paper : [GGA-MLP: A Greedy Genetic Algorithm to Optimize Weights and Biases in Multilayer Perceptron](https://en.wikipedia.org/wiki/Crossover_(genetic_algorithm)#:~:text=In%20genetic%20algorithms%20and%20evolutionary,parents%20to%20generate%20new%20offspring.)"
   ]
  },
  {
   "cell_type": "code",
   "execution_count": 44,
   "id": "70a4c868",
   "metadata": {},
   "outputs": [],
   "source": [
    "S = set()\n",
    "\n",
    "def MBC(pop,top_n_index,worst_n_index,N_off_springs):\n",
    "    \"\"\"\n",
    "    input :\n",
    "        top_n_index : Index of top N chromosm of the list of population\n",
    "        worst_n_index : Index of worst N chromosm of the list of population\n",
    "        N_off_springs : Number of off springs desired to be created\n",
    "    ouput :\n",
    "        off_springs : Generated chromosoms from Cross Over\n",
    "    \"\"\"\n",
    "    \n",
    "    #Calculate the gene-wisse mean of top N chromosoms\n",
    "    stacked_arrays = np.stack([pop[i].chromosom for i in top_n_index],axis=0)\n",
    "    C_mean = np.mean(stacked_arrays,axis=0)\n",
    "    \n",
    "    off_springs = []\n",
    "    for _ in range(N_off_springs//2) :\n",
    "        #Select a random C_bf chromosom that's not chosen yet\n",
    "        C_bf_index = random.choice(top_n_index)\n",
    "        while C_bf_index in S:\n",
    "            C_bf_index = random.choice(top_n_index)\n",
    "        C_bf = pop[C_bf_index].chromosom\n",
    "\n",
    "        #Calculate the absolute difference between genes of C_bf and C_mean\n",
    "        C_diff = np.abs(C_bf-C_mean)\n",
    "\n",
    "        #\n",
    "        scores = [] #Scores of each C_diff\n",
    "        for j in worst_n_index:\n",
    "            C_diff_j = np.abs(pop[j].chromosom-C_mean) #calculate the difference chromosom\n",
    "            scores.append(np.sum(C_diff_j<C_diff)) #append the score value to scores (score is an indicator of how significantly Cj can improve the fitness of the chromosome Cbf .)\n",
    "\n",
    "        #Select the best chromosom for crossover\n",
    "        selected_index = np.argmax(scores) \n",
    "        C_hs = pop[selected_index].chromosom\n",
    "        C_hs_diff = np.abs(C_hs-C_mean) #Calculate its difference\n",
    "\n",
    "        #Crossover is now performed between C_bf and C_hs by interchanging the genes for which C [k]_hs_diff <C[k]_diff . \n",
    "        c_indices = np.where(C_hs_diff < C_diff)[0]\n",
    "        C_bf[c_indices], C_hs[c_indices] = C_hs[c_indices], C_bf[c_indices]\n",
    "\n",
    "        #Add C_bf to off springs and its index to S\n",
    "        S.add(selected_index)\n",
    "        off_springs.append(C_bf)\n",
    "        off_springs.append(C_hs)\n",
    "        \n",
    "    #Turn off_springs into object of our class GenNN\n",
    "    off_springs_objects = [GenNN(architecture) for i in range(N_off_springs)]\n",
    "    for i,c in enumerate(off_springs):\n",
    "        off_springs_objects[i].chromosom=c\n",
    "        off_springs_objects[i].unflatten_weights()\n",
    "\n",
    "    return off_springs_objects"
   ]
  },
  {
   "cell_type": "code",
   "execution_count": 51,
   "id": "fc1a47fe",
   "metadata": {},
   "outputs": [],
   "source": [
    "def GreedyMutation(pop,top_n_index,worst_n_index,n,Pm = 0.3):\n",
    "    \"\"\"\n",
    "     input :\n",
    "            top_n_index : Index of top N chromosm of the list of population\n",
    "            worst_n_index : Index of worst N chromosm of the list of population\n",
    "            Pm : Mutation probability\n",
    "            n : Number of greedy mutations\n",
    "    \"\"\"\n",
    "    #Calculate the gene-wisse mean of top N chromosoms\n",
    "    stacked_arrays = np.stack([pop[i].chromosom for i in top_n_index],axis=0)\n",
    "    C_mean = np.mean(stacked_arrays,axis=0)\n",
    "    \n",
    "    for _ in range(n):\n",
    "        #Select a random C_j from the worst chromosom for mutation\n",
    "        C_j_index = random.choice(worst_n_index)\n",
    "        C_j = pop[C_j_index].chromosom\n",
    "\n",
    "        #iterate over the selected chromosom genes\n",
    "        for i,gene in enumerate(C_j):\n",
    "            R = random.random() #Generate a random number\n",
    "            if R>Pm:\n",
    "                d = abs(gene-C_mean[i])*random.random()\n",
    "                C_j[i] -= d\n",
    "        pop[C_j_index].chromosom = C_j      \n",
    "    \n",
    "    "
   ]
  },
  {
   "cell_type": "markdown",
   "id": "b16c660f",
   "metadata": {},
   "source": [
    "# ALL TOGETHER"
   ]
  },
  {
   "cell_type": "code",
   "execution_count": 59,
   "id": "d45647b9",
   "metadata": {},
   "outputs": [
    {
     "name": "stdout",
     "output_type": "stream",
     "text": [
      "___GENERATION_N_ 0\n",
      "Calculing top_n and worst_n ...\n",
      "[12, 4, 3, 6] [10, 0, 11, 2] *** 14\n",
      "30\n",
      "________________________________________________________\n",
      "___GENERATION_N_ 1\n",
      "Calculing top_n and worst_n ...\n",
      "[2, 5, 8, 10, 12, 14, 16] [1, 0, 6, 11, 13, 19, 22] *** 24\n"
     ]
    },
    {
     "ename": "IndexError",
     "evalue": "list index out of range",
     "output_type": "error",
     "traceback": [
      "\u001b[1;31m---------------------------------------------------------------------------\u001b[0m",
      "\u001b[1;31mIndexError\u001b[0m                                Traceback (most recent call last)",
      "Cell \u001b[1;32mIn [59], line 30\u001b[0m\n\u001b[0;32m     27\u001b[0m off_springs \u001b[38;5;241m=\u001b[39m MBC(not_sampled,top_n,worst_n,N_MBC_GM)\n\u001b[0;32m     29\u001b[0m \u001b[38;5;66;03m#Apply greedy mutation to off_springs\u001b[39;00m\n\u001b[1;32m---> 30\u001b[0m \u001b[43mGreedyMutation\u001b[49m\u001b[43m(\u001b[49m\u001b[43moff_springs\u001b[49m\u001b[43m,\u001b[49m\u001b[43mtop_n\u001b[49m\u001b[43m,\u001b[49m\u001b[43mworst_n\u001b[49m\u001b[43m,\u001b[49m\u001b[43mN_MBC_GM\u001b[49m\u001b[43m,\u001b[49m\u001b[43mPm\u001b[49m\u001b[43m \u001b[49m\u001b[38;5;241;43m=\u001b[39;49m\u001b[43m \u001b[49m\u001b[38;5;241;43m0.3\u001b[39;49m\u001b[43m)\u001b[49m\n\u001b[0;32m     31\u001b[0m new_pop \u001b[38;5;241m+\u001b[39m\u001b[38;5;241m=\u001b[39m off_springs\n\u001b[0;32m     34\u001b[0m \u001b[38;5;66;03m#update population (the new generation)\u001b[39;00m\n",
      "Cell \u001b[1;32mIn [51], line 16\u001b[0m, in \u001b[0;36mGreedyMutation\u001b[1;34m(pop, top_n_index, worst_n_index, n, Pm)\u001b[0m\n\u001b[0;32m     13\u001b[0m \u001b[38;5;28;01mfor\u001b[39;00m _ \u001b[38;5;129;01min\u001b[39;00m \u001b[38;5;28mrange\u001b[39m(n):\n\u001b[0;32m     14\u001b[0m     \u001b[38;5;66;03m#Select a random C_j from the worst chromosom for mutation\u001b[39;00m\n\u001b[0;32m     15\u001b[0m     C_j_index \u001b[38;5;241m=\u001b[39m random\u001b[38;5;241m.\u001b[39mchoice(worst_n_index)\n\u001b[1;32m---> 16\u001b[0m     C_j \u001b[38;5;241m=\u001b[39m \u001b[43mpop\u001b[49m\u001b[43m[\u001b[49m\u001b[43mC_j_index\u001b[49m\u001b[43m]\u001b[49m\u001b[38;5;241m.\u001b[39mchromosom\n\u001b[0;32m     18\u001b[0m     \u001b[38;5;66;03m#iterate over the selected chromosom genes\u001b[39;00m\n\u001b[0;32m     19\u001b[0m     \u001b[38;5;28;01mfor\u001b[39;00m i,gene \u001b[38;5;129;01min\u001b[39;00m \u001b[38;5;28menumerate\u001b[39m(C_j):\n",
      "\u001b[1;31mIndexError\u001b[0m: list index out of range"
     ]
    }
   ],
   "source": [
    "pop = initial_pop\n",
    "N_pop = len(pop)\n",
    "N_MBC_GM = int(N_pop*0.5)\n",
    "N_elitism = int(N_pop*0.3)\n",
    "N_rand = int(N_pop*0.2)\n",
    "\"\"\"\n",
    "At each iteration we will have :\n",
    "30% using elitism\n",
    "50% MBC and GreedyMutation\n",
    "20% random\n",
    "\"\"\"\n",
    "for i in range(20):\n",
    "    print(\"___GENERATION_N_\",i)\n",
    "    \n",
    "    #Choose 30% by elitism\n",
    "    new_pop = random.sample(pop, k=N_elitism)\n",
    "    not_sampled = [c for c in pop if c not in new_pop] #We need to retain unsampled indivduals\n",
    "    \n",
    "    #Generate 20% random\n",
    "    random_indiv = [GenNN(architecture) for _ in range(N_rand)]\n",
    "    new_pop += random_indiv\n",
    "    \n",
    "    #Generate off springs using MBC on the 70% remaining (unsampled)\n",
    "    print(\"Calculing top_n and worst_n ...\")\n",
    "    top_n,worst_n = select(not_sampled)\n",
    "    print(top_n,worst_n,\"***\",len(not_sampled))\n",
    "    off_springs = MBC(not_sampled,top_n,worst_n,N_MBC_GM)\n",
    "    \n",
    "    #Apply greedy mutation to off_springs\n",
    "    GreedyMutation(off_springs,top_n,worst_n,N_MBC_GM,Pm = 0.3)\n",
    "    new_pop += off_springs\n",
    "            \n",
    "    \n",
    "    #update population (the new generation)\n",
    "    print(len(new_pop))\n",
    "    pop = new_pop\n",
    "    print('________________________________________________________')\n",
    "    \n",
    "\n",
    "#Better fintness so far:\n",
    "best = float(\"+inf\")\n",
    "for C in off_springs:\n",
    "    C_fitness = fitness(C)\n",
    "    if C_fitness<best:\n",
    "        best = C_fitness\n",
    "print(\"Best Fintess : \",best)"
   ]
  },
  {
   "cell_type": "code",
   "execution_count": null,
   "id": "b4e70bb1",
   "metadata": {},
   "outputs": [],
   "source": []
  }
 ],
 "metadata": {
  "kernelspec": {
   "display_name": "Python 3 (ipykernel)",
   "language": "python",
   "name": "python3"
  },
  "language_info": {
   "codemirror_mode": {
    "name": "ipython",
    "version": 3
   },
   "file_extension": ".py",
   "mimetype": "text/x-python",
   "name": "python",
   "nbconvert_exporter": "python",
   "pygments_lexer": "ipython3",
   "version": "3.10.7"
  }
 },
 "nbformat": 4,
 "nbformat_minor": 5
}
